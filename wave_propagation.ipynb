{
 "cells": [
  {
   "cell_type": "code",
   "execution_count": null,
   "metadata": {
    "collapsed": true
   },
   "outputs": [],
   "source": [
    "import numpy as np\n",
    "import matplotlib.pyplot as plt\n",
    "import matplotlib as mpl\n",
    "from mpl_toolkits.mplot3d import Axes3D\n",
    "import scipy.sparse as sp\n",
    "import scipy.sparse.linalg as linalg\n",
    "from matplotlib import cm\n",
    "from matplotlib import animation\n",
    "\n",
    "\n",
    "from matplotlib import rc\n",
    "\n",
    "\n",
    "# Define font for figures\n",
    "rc('font', **{'family': 'serif', 'serif': ['Computer Modern']})\n",
    "rc('text', usetex=True)\n",
    "\n",
    "golden = (1 + 5 ** 0.5) / 2 #Define golden ratio for plots\n"
   ]
  },
  {
   "cell_type": "code",
   "execution_count": null,
   "metadata": {
    "collapsed": true
   },
   "outputs": [],
   "source": [
    "def init_1D():\n",
    "    \"Initializes the 1d animation with a clean slate\"\n",
    "    line.set_data([], [])\n",
    "    #V_x.set_data([], [])\n",
    "    return line#, V_x,\n",
    "\n",
    "\n",
    "# animation function.  This is called sequentially for every frame.\n",
    "def animate_1D(i):\n",
    "    \"sets the frames for the animation in 1d\"\n",
    "    y = np.absolute(u_plot[:, i])**2\n",
    "    line.set_data(x, y)\n",
    "    ttl.set_text(r'z = ' + \"%.2f\" % (h * i * 1000) + r'm')\n",
    "    #V_x.set_data(x, V)\n",
    "    return line#, V_x,\n",
    "\n",
    "\n",
    "def animation_1D():\n",
    "    \"calls the animation function in 1d\"\n",
    "    anim = animation.FuncAnimation(fig, animate_1D, init_func=init_1D,\n",
    "           frames=animation_frames, save_count=anim_count, interval=5, blit=False, repeat=False)\n",
    "    return anim\n",
    "\n",
    "def save_anim(file, title):\n",
    "    \"saves the animation with a desired title\"\n",
    "    Writer = animation.writers['ffmpeg']\n",
    "    writer = Writer(fps=25, metadata=dict(artist='Me'), bitrate=1800)\n",
    "    file.save(title + '.mp4', writer=writer)"
   ]
  },
  {
   "cell_type": "code",
   "execution_count": null,
   "metadata": {
    "collapsed": false
   },
   "outputs": [],
   "source": [
    "#Define constants\n",
    "wl = 0.63e-6 #[m] wavelength\n",
    "N = 2048 #grid points\n",
    "L = 50e-3 #physical size\n",
    "z = 1 # [m] propagation length\n",
    "ap_size = 1.5e-3 #[m] apperture radius\n",
    "xmin = -2.5e-3\n",
    "xmax = 2.5e-3\n",
    "\n",
    "#Define space and frequency domain\n",
    "dx = L/N \n",
    "x_four = np.arange(-L/2, L/2, dx)\n",
    "df = 1/L\n",
    "fx = np.arange(-0.5/dx, 0.5/dx, df)\n",
    "[XX, YY] = np.meshgrid(x_four, x_four)\n",
    "[FX, FY] = np.meshgrid(fx, fx)\n",
    "\n",
    "#Make and show aperture\n",
    "Aperture = np.squeeze(np.array([XX**2 + YY**2 < (ap_size)**2])) #define circular aperture\n",
    "# ### Uncomment for plot ### #\n",
    "# fig = plt.figure()\n",
    "# ax = fig.add_subplot(111, projection='3d')\n",
    "# ax.plot_surface(XX, YY, Aperture)"
   ]
  },
  {
   "cell_type": "code",
   "execution_count": null,
   "metadata": {
    "collapsed": false
   },
   "outputs": [],
   "source": [
    "#Define shift necessary for x and y direction due to figure being centered\n",
    "[shiftx, shifty] = np.exp(-2*np.pi*1j*np.array([FX, FY])*L/2) * dx\n",
    "\n",
    "#Define the Fresnel Propagator\n",
    "fresnel_prop = np.exp(-1j*np.pi*wl*z*(FX**2 + FY**2)) * np.exp(2*np.pi*1j*z/wl)\n",
    "\n",
    "#Caclulate field at z = 1 by IFT(FT(Aperture)*propagator)\n",
    "Aperture_trans = np.fft.fftshift(np.fft.fft2(Aperture)) * shiftx * shifty\n",
    "Aperture_propagated = fresnel_prop*Aperture_trans\n",
    "field_image_plane = np.fft.ifftshift(np.fft.ifft2(Aperture_propagated)) / (shiftx*shifty)"
   ]
  },
  {
   "cell_type": "code",
   "execution_count": null,
   "metadata": {
    "collapsed": false,
    "scrolled": false
   },
   "outputs": [],
   "source": [
    "fig, axes = plt.subplots(nrows=1, ncols=2)\n",
    "\n",
    "cont_field = axes[0].contourf(XX, YY, np.abs(field_image_plane)**2, cmap = cm.RdBu_r)\n",
    "cbar = fig.colorbar(cont_field, ax = axes[0])\n",
    "axes[0].locator_params(nbins = 4)\n",
    "axes[0].set_title('Field intensity at $z = 1$ m')\n",
    "axes[0].set_xlim([xmin, xmax])\n",
    "axes[0].set_ylim([xmin, xmax])\n",
    "\n",
    "axes[1].plot(x_four, np.abs(field_image_plane[int(0.5*N), :])**2)\n",
    "\n",
    "axes2 = plt.gca()\n",
    "axes2.set_xlim([xmin, xmax])\n",
    "axes2.set_ylim([0, 2])\n",
    "axes[1].locator_params(nbins = 4)\n",
    "axes[1].set_title(r'profile at $x= 0$ ')\n",
    "\n",
    "# # Uncomment for addition 3d plot\n",
    "# fig = plt.figure()\n",
    "# ax = fig.add_subplot(111, projection='3d')\n",
    "# threed_plot = ax.plot_surface(XX, YY, np.abs(field_image_plane)**2, cmap = cm.RdBu_r)\n",
    "# ax.set_title('Field inentisty at $z=1$ m')\n",
    "\n",
    "#ax.set_xlim([xmin/10,xmax/10])\n",
    "#ax.set_ylim([xmin/10,xmax/10])\n",
    "#ax.set_zlim([0, 2])"
   ]
  },
  {
   "cell_type": "markdown",
   "metadata": {},
   "source": [
    "# Finite difference method"
   ]
  },
  {
   "cell_type": "markdown",
   "metadata": {},
   "source": [
    "Find the field at $z = 1$m by making use of a finite difference method. A Crank Nicholson implicit integration scheme is used to solve the field at $z + \\Delta z$. Dirichlet boundary conditions with the forcing term equal to 0 are used, which is a good approximation of free space since the width of the solution is far less than the domain it is solved on."
   ]
  },
  {
   "cell_type": "code",
   "execution_count": null,
   "metadata": {
    "collapsed": false
   },
   "outputs": [],
   "source": [
    "# Set parameters\n",
    "wl = 0.63e-6 #[m] wavelength\n",
    "L = 50e-3 #physical size\n",
    "z = 1 # [m] propagation length\n",
    "ap_size = 1.5e-3\n",
    "\n",
    "h = 1e-5 # delta z size\n",
    "xmin = -L/2\n",
    "xmax = L/2\n",
    "nodes = 10000\n",
    "k = 2*np.pi/wl\n",
    "\n",
    "a = (xmax - xmin) / (nodes-1)  # space between nodes\n",
    "x = np.linspace(xmin, xmax, nodes)\n",
    "zsteps = int(1/h)\n",
    "\n",
    "# initial wave function\n",
    "u = np.array([abs(x) < ap_size], dtype = np.cfloat)\n",
    "\n",
    "# Make left hand side matrix\n",
    "ai = 1/h - 1/(2*1j*k*a**2)\n",
    "bi = 1/(4*1j*k*a**2)\n",
    "\n",
    "A = sp.diags([bi, ai, bi], [-1, 0 ,1],shape=(nodes, nodes)).tocsc()\n",
    "\n",
    "# Make right hand side vector\n",
    "ci = 1/h + 1/(2*1j*k*a**2)\n",
    "di = -1/(4*1j*k*a**2)\n",
    "B = sp.diags([di, ci, di], [-1, 0, 1],shape=(nodes, nodes)).tocsc()\n",
    "\n",
    "## Attempt at ILU decomposition as preconditioner for bicgstab algorithm.\n",
    "lu = linalg.spilu(A)\n",
    "MU = lu.U\n",
    "ML = lu.L\n",
    "M = ML.dot(MU)\n",
    "\n",
    "\n",
    "anim_constant = 1000\n",
    "anim_count = 0\n",
    "animation_frames = int((zsteps)/anim_constant)\n",
    "\n",
    "u_plot = np.zeros(shape=(nodes, animation_frames), dtype=np.cfloat)\n",
    "\n",
    "for t in range(zsteps):\n",
    "    b = B.dot(u.T)\n",
    "    u = linalg.bicgstab(A, b, None, 1e-5, None, None, M, None)[0]\n",
    "    if (t+1) % anim_constant == 0:\n",
    "        u_plot[:,anim_count] = u\n",
    "        anim_count += 1\n"
   ]
  },
  {
   "cell_type": "code",
   "execution_count": null,
   "metadata": {
    "collapsed": false
   },
   "outputs": [],
   "source": [
    "# Show animations\n",
    "fig = plt.figure()\n",
    "ax = plt.axes(xlim=(xmin/10, xmax/10), ylim=(0, 2))\n",
    "ax.set_xlabel(r'$r$ [m]')\n",
    "ax.set_ylabel(r'$|u|^2$ [J]')\n",
    "line, = ax.plot([], [], lw=2)\n",
    "ttl = ax.text(.5, 1.05, '', transform = ax.transAxes, va='center')\n",
    "\n",
    "# call the animator.\n",
    "anim_sq_well = animation_1D()\n",
    "\n",
    "plt.show()"
   ]
  },
  {
   "cell_type": "code",
   "execution_count": null,
   "metadata": {
    "collapsed": false
   },
   "outputs": [],
   "source": [
    "save_anim(anim_sq_well,'Intensity_propagation')"
   ]
  },
  {
   "cell_type": "code",
   "execution_count": null,
   "metadata": {
    "collapsed": false
   },
   "outputs": [],
   "source": [
    "plotmin = xmin/10\n",
    "plotmax = xmax/10\n",
    "\n",
    "dz = -2000\n",
    "\n",
    "for ii in range(3,4):  \n",
    "    distance = int(zsteps + dz + (ii-10)*50)\n",
    "    fig = plt.figure(figsize=plt.figaspect(1/golden))\n",
    "    ax = fig.add_subplot(111)\n",
    "    ax.plot(x, np.abs(u_plot[:, distance])**2, label = r'Finite Difference Method' )\n",
    "    ax.plot(x_four, np.abs(field_image_plane[int(0.5*N)+1,:])**2, label = r'Fourier propagation')\n",
    "    ax.set_title(r'FD at $z = $' + str(distance * h) + r'm, FT at $z=1$ m')\n",
    "    axes = plt.gca()\n",
    "    axes.set_xlim([plotmin, plotmax])\n",
    "    axes.set_ylim([0,2])\n",
    "    legend = ax.legend(loc='upper right', shadow=True, fontsize = 9)"
   ]
  },
  {
   "cell_type": "code",
   "execution_count": null,
   "metadata": {
    "collapsed": true
   },
   "outputs": [],
   "source": [
    "fig.savefig('Circular_aperture_interference_fd_ft_propagated.pdf', bbox_inches='tight', pad_inches=0.1)"
   ]
  }
 ],
 "metadata": {
  "kernelspec": {
   "display_name": "Python 3",
   "language": "python",
   "name": "python3"
  },
  "language_info": {
   "codemirror_mode": {
    "name": "ipython",
    "version": 3
   },
   "file_extension": ".py",
   "mimetype": "text/x-python",
   "name": "python",
   "nbconvert_exporter": "python",
   "pygments_lexer": "ipython3",
   "version": "3.5.1"
  }
 },
 "nbformat": 4,
 "nbformat_minor": 0
}
